{
 "cells": [
  {
   "cell_type": "markdown",
   "metadata": {},
   "source": [
    "Найти два предложения, которые ближе всего по смыслу к расположенному в самой первой строке. В качестве меры близости по смыслу мы будем использовать косинусное расстояние."
   ]
  },
  {
   "cell_type": "code",
   "execution_count": 1,
   "metadata": {},
   "outputs": [],
   "source": [
    "import re\n",
    "import numpy as np\n",
    "import scipy.spatial.distance as scp\n",
    "from pandas import Series"
   ]
  },
  {
   "cell_type": "code",
   "execution_count": 2,
   "metadata": {},
   "outputs": [],
   "source": [
    "openFile = open('sentences.txt')"
   ]
  },
  {
   "cell_type": "code",
   "execution_count": 3,
   "metadata": {},
   "outputs": [],
   "source": [
    "LineDict = list()\n",
    "bigDict = dict()\n",
    "wordList = list()\n",
    "rowCount = 0\n",
    "for line in openFile:\n",
    "    lineFinal = line.lower().strip()\n",
    "    wordList = re.split( '[^a-z]', lineFinal)\n",
    "    rowCount = rowCount + 1\n",
    "    wordDictSmall = dict()\n",
    "    for word in wordList:\n",
    "        if len(word) == 0: continue   \n",
    "        bigDict[word] = bigDict.get(word, 0) + 1\n",
    "        wordDictSmall[word] = wordDictSmall.get(word, 0) + 1\n",
    "    LineDict.append(wordDictSmall)"
   ]
  },
  {
   "cell_type": "code",
   "execution_count": 4,
   "metadata": {},
   "outputs": [],
   "source": [
    "openFile.close()\n",
    "wordsSpace = np.zeros((rowCount, len(bigDict)))"
   ]
  },
  {
   "cell_type": "code",
   "execution_count": 5,
   "metadata": {},
   "outputs": [],
   "source": [
    "for row in range(rowCount):\n",
    "    column = -1\n",
    "    for key in bigDict.keys():\n",
    "        column = column + 1\n",
    "        if key not in LineDict[row].keys(): continue\n",
    "        wordsSpace[row, column] = LineDict[row][key]"
   ]
  },
  {
   "cell_type": "code",
   "execution_count": 6,
   "metadata": {},
   "outputs": [],
   "source": [
    "distanceList = list()\n",
    "for i in range(1,rowCount):\n",
    "    distanceList.append(scp.cosine(wordsSpace[0], wordsSpace[i]))"
   ]
  },
  {
   "cell_type": "code",
   "execution_count": 7,
   "metadata": {},
   "outputs": [],
   "source": [
    "distance = Series(distanceList, index = range(1,rowCount))\n",
    "distance.sort_values(inplace = True)"
   ]
  },
  {
   "cell_type": "code",
   "execution_count": 9,
   "metadata": {},
   "outputs": [],
   "source": [
    "listAnswer = list(distance.index[:2])\n",
    "lineAnswer = str(listAnswer[0]) + ' '+ str(listAnswer[1])\n",
    "writeFile = open('final_answer.txt', 'w')\n",
    "writeFile.write(lineAnswer)\n",
    "writeFile.close()"
   ]
  }
 ],
 "metadata": {
  "kernelspec": {
   "display_name": "Python 3",
   "language": "python",
   "name": "python3"
  },
  "language_info": {
   "codemirror_mode": {
    "name": "ipython",
    "version": 3
   },
   "file_extension": ".py",
   "mimetype": "text/x-python",
   "name": "python",
   "nbconvert_exporter": "python",
   "pygments_lexer": "ipython3",
   "version": "3.8.2"
  }
 },
 "nbformat": 4,
 "nbformat_minor": 4
}
