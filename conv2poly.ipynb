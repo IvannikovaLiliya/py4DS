{
 "cells": [
  {
   "cell_type": "markdown",
   "metadata": {},
   "source": [
    "Аппроксимация функции на отрезке [1, 15]:\n",
    "f(x) = sin(x / 5) * exp(x / 10) + 5 * exp(-x / 2)"
   ]
  },
  {
   "cell_type": "code",
   "execution_count": 1,
   "metadata": {},
   "outputs": [],
   "source": [
    "import numpy as np\n",
    "import matplotlib.pyplot as plt"
   ]
  },
  {
   "cell_type": "code",
   "execution_count": 2,
   "metadata": {},
   "outputs": [
    {
     "name": "stdout",
     "output_type": "stream",
     "text": [
      "Enter polynom order:3\n"
     ]
    }
   ],
   "source": [
    "polynomOrder = input('Enter polynom order:')\n",
    "try:\n",
    "    polynomOrder = int(polynomOrder) + 1\n",
    "except:\n",
    "    print('Not correct')\n",
    "    quit()"
   ]
  },
  {
   "cell_type": "code",
   "execution_count": 3,
   "metadata": {},
   "outputs": [],
   "source": [
    "def f(x):\n",
    "    return np.sin(x / 5) * np.exp(x / 10) + 5 * np.exp(-x / 2)\n",
    "\n",
    "def polyn(x, polyOrder):\n",
    "    A = np.zeros((polyOrder, len(x)))\n",
    "    for i in range(0, polyOrder):\n",
    "        A[i, :] = x**[i]\n",
    "    return A.T"
   ]
  },
  {
   "cell_type": "code",
   "execution_count": 4,
   "metadata": {},
   "outputs": [],
   "source": [
    "if polynomOrder == 2:\n",
    "    points = np.array([1, 15])\n",
    "elif polynomOrder == 3:\n",
    "    points = np.array([1, 8, 15])\n",
    "else:\n",
    "    points = np.array([1, 4, 10, 15])\n",
    "\n",
    "b = f(points)\n",
    "w = np.linalg.solve(polyn(points, polynomOrder), b)"
   ]
  },
  {
   "cell_type": "code",
   "execution_count": 5,
   "metadata": {},
   "outputs": [
    {
     "data": {
      "text/plain": [
       "[<matplotlib.lines.Line2D at 0x3cda1c0>]"
      ]
     },
     "execution_count": 5,
     "metadata": {},
     "output_type": "execute_result"
    },
    {
     "data": {
      "image/png": "[encoded data removed]",
      "text/plain": [
       "<Figure size 432x288 with 1 Axes>"
      ]
     },
     "metadata": {
      "needs_background": "light"
     },
     "output_type": "display_data"
    }
   ],
   "source": [
    "x = np.arange(1,16)\n",
    "apprPolyn = apprPolyn = polyn(x, polynomOrder)*w\n",
    "plt.plot(f(x))\n",
    "plt.plot(sum(apprPolyn.T))"
   ]
  },
  {
   "cell_type": "code",
   "execution_count": 13,
   "metadata": {},
   "outputs": [],
   "source": [
    "roundNum = str(round(w[0], 2))\n",
    "for i in range(1,len(w)):\n",
    "    roundNum = roundNum + ' ' + str(round(w[i], 2)) \n",
    "\n",
    "writeFile = open('final_answer2.txt', 'w')\n",
    "writeFile.write(roundNum)\n",
    "writeFile.close()\n"
   ]
  }
 ],
 "metadata": {
  "kernelspec": {
   "display_name": "Python 3",
   "language": "python",
   "name": "python3"
  },
  "language_info": {
   "codemirror_mode": {
    "name": "ipython",
    "version": 3
   },
   "file_extension": ".py",
   "mimetype": "text/x-python",
   "name": "python",
   "nbconvert_exporter": "python",
   "pygments_lexer": "ipython3",
   "version": "3.8.2"
  }
 },
 "nbformat": 4,
 "nbformat_minor": 4
}
